{
 "cells": [
  {
   "cell_type": "code",
   "execution_count": 1,
   "metadata": {},
   "outputs": [],
   "source": [
    "from __future__ import division\n",
    "from IPython.display import display\n",
    "from IPython.display import Markdown as md\n",
    "from IPython.core.display import SVG\n",
    "from sympy.interactive import printing\n",
    "printing.init_printing(use_latex='mathjax')\n",
    "\n",
    "import pandas as pd\n",
    "import numpy as np\n",
    "\n",
    "import sympy as sp\n",
    "sf = sp.sympify\n",
    "\n",
    "import scipy.constants as cm\n",
    "import pint as pn\n",
    "ureg = pn.UnitRegistry(system='mks')\n",
    "ureg.default_format = '~P'\n",
    "pe = ureg.parse_expression\n",
    "\n",
    "## Konstanten und Einheiten\n",
    "CM = pd.DataFrame(cm.physical_constants).T\n",
    "CM['c'] = CM.index\n",
    "CM = CM.reset_index(drop=True)\n",
    "def getpc(quant):\n",
    "    DF = CM\n",
    "    DF = DF[DF['c']==quant].reset_index(drop=True)\n",
    "    quan = DF[0][0] * ureg(DF[1][0])\n",
    "    return quan"
   ]
  },
  {
   "cell_type": "code",
   "execution_count": 2,
   "metadata": {},
   "outputs": [],
   "source": [
    "g = getpc('standard acceleration of gravity')\n",
    "m_e = getpc('electron mass')\n",
    "e = getpc('elementary charge')\n",
    "c = getpc('speed of light in vacuum')\n",
    "e0 = getpc('electric constant')\n",
    "mu0 = getpc('mag. constant')"
   ]
  },
  {
   "cell_type": "code",
   "execution_count": 3,
   "metadata": {},
   "outputs": [
    {
     "data": {
      "text/html": [
       "<script>\n",
       "code_show=true; \n",
       "function code_toggle() {\n",
       " if (code_show){\n",
       " $('div.input').hide();\n",
       " } else {\n",
       " $('div.input').show();\n",
       " }\n",
       " code_show = !code_show\n",
       "} \n",
       "$( document ).ready(code_toggle);\n",
       "</script>\n",
       "<form action=\"javascript:code_toggle()\"><input type=\"submit\" value=\"Quellcode an/aus schalten.\"></form>"
      ],
      "text/plain": [
       "<IPython.core.display.HTML object>"
      ]
     },
     "execution_count": 3,
     "metadata": {},
     "output_type": "execute_result"
    }
   ],
   "source": [
    "from IPython.display import HTML\n",
    "\n",
    "HTML('''<script>\n",
    "code_show=true; \n",
    "function code_toggle() {\n",
    " if (code_show){\n",
    " $('div.input').hide();\n",
    " } else {\n",
    " $('div.input').show();\n",
    " }\n",
    " code_show = !code_show\n",
    "} \n",
    "$( document ).ready(code_toggle);\n",
    "</script>\n",
    "<form action=\"javascript:code_toggle()\"><input type=\"submit\" value=\"Quellcode an/aus schalten.\"></form>''')"
   ]
  },
  {
   "cell_type": "markdown",
   "metadata": {},
   "source": [
    "# Energie und Kraft"
   ]
  },
  {
   "cell_type": "markdown",
   "metadata": {},
   "source": [
    "## Aufgabe 1\n",
    "### a)\n",
    "Die Spannenergie einer Feder ist die Dreiecksfläche unter dem $s$-$F$-Diagramm.\n",
    "$$\\begin{eqnarray}\n",
    "E_{s,1} &=& \\frac{1}{2} \\cdot F_1 \\cdot s_1\n",
    "\\end{eqnarray}$$\n",
    "### b)\n",
    "Je weiter man die Feder auslenkt, desto größer ist die rückstellende Kraft. Die Federhärte $D$ gibt an, wieviel Kraft pro Auslenkung aufgebracht werden muss.\n",
    "$$\\begin{eqnarray}\n",
    "F_1 &=& D \\cdot s_1 \\\\\n",
    "D &=&  \\frac{F_1}{s_1} \\\\\n",
    "\\end{eqnarray}$$\n",
    "Gesucht ist die Auslenkung $s_2$, bei der die gespannte Feder die Energie $E_{s,2} = E_{s,1} + \\Delta E$ gespeichert hat.\n",
    "$$\\begin{eqnarray}\n",
    "F_2 &=& D \\cdot s_2 \\\\\n",
    "&=&  \\frac{F_1}{s_1} \\cdot s_2 \\\\\n",
    "E_{s,2} &=& \\frac{1}{2} \\cdot F_2 \\cdot s_2 \\\\\n",
    "&=& \\frac{1}{2} \\cdot \\frac{F_1}{s_1} \\cdot s_2^2 = E_{s,1} + \\Delta E\\\\\n",
    "s_2 &=& \\sqrt{\\frac{2 s_1 \\cdot \\left (E_{s,1} + \\Delta E\\right )}{F_1}}\n",
    "\\end{eqnarray}$$"
   ]
  },
  {
   "cell_type": "code",
   "execution_count": 11,
   "metadata": {},
   "outputs": [
    {
     "data": {
      "text/markdown": [
       "Gegeben: <br/> $F_1 = 15 N$; $s_1 = 3 cm$; $\\Delta E = 2 J$<br/>Lösung:<br/>$E_{s,1} = 0.225 J$; $E_{s,2} = 2.23 J$; $D = 5.0 N/cm$; $s_2 = 9.43 cm$; "
      ],
      "text/plain": [
       "<IPython.core.display.Markdown object>"
      ]
     },
     "execution_count": 11,
     "metadata": {},
     "output_type": "execute_result"
    }
   ],
   "source": [
    "F_1 = pe('15N')\n",
    "s_1 = pe('3cm')\n",
    "E_2 = pe('2J')\n",
    "\n",
    "E_1 = (0.5*F_1*s_1).to('J')\n",
    "E = (E_1 + E_2).to('J')\n",
    "D = (F_1/s_1).to('N/cm')\n",
    "s_2 = np.sqrt(2*s_1*(E_1+E_2)/F_1).to('cm')\n",
    "\n",
    "\n",
    "\n",
    "md(\"Gegeben: <br/>\"\n",
    "+ \" $F_1 = {:~P}$\".format(F_1) \n",
    "+ \"; $s_1 = {:~P}$\".format(s_1)\n",
    "+ \"; $\\\\Delta E = {:~P}$\".format(E_2)\n",
    "+ \"<br/>Lösung:<br/>\" \n",
    "+ \"$E_{{s,1}} = {:.3~P}$; \".format(E_1)\n",
    "+ \"$E_{{s,2}} = {:.3~P}$; \".format(E)\n",
    "+ \"$D = {:.3~P}$; \".format(D)\n",
    "+ \"$s_2 = {:.3~P}$; \".format(s_2))"
   ]
  },
  {
   "cell_type": "markdown",
   "metadata": {},
   "source": [
    "## Aufgabe 2\n",
    "Es wirkt eine konstante Kraft über eine Strecke s. In dem $s$-$F$-Diagramm ist die Fläche unter dem Graphen ein Rechteck. Die Energie die dafür benötigt wird lässt sich demnach mit $E = F \\cdot s$ berechnen.\n",
    "\n",
    "Das Auto hat danach keine Lageenergie (potentielle Energie), da es sich auf einer horizontalen Straße bewegt. Da es sich näherungsweise reibungsfrei bewegt, wird die aufgebrachte Energie nicht in thermische Energie umgewandelt. Das Auto hat danach nur Bewegungsenergie (kinetische Energie)."
   ]
  },
  {
   "cell_type": "code",
   "execution_count": 16,
   "metadata": {},
   "outputs": [
    {
     "data": {
      "text/markdown": [
       "Gegeben: <br/> $F = 1300 N$; $s = 5 m$<br/>Lösung:<br/>$E = 6.5 kJ$; "
      ],
      "text/plain": [
       "<IPython.core.display.Markdown object>"
      ]
     },
     "execution_count": 16,
     "metadata": {},
     "output_type": "execute_result"
    }
   ],
   "source": [
    "F = pe('1300N')\n",
    "s = pe('5m')\n",
    "\n",
    "E = (F * s).to('kJ')\n",
    "\n",
    "\n",
    "\n",
    "md(\"Gegeben: <br/>\"\n",
    "+ \" $F = {:~P}$\".format(F) \n",
    "+ \"; $s = {:~P}$\".format(s)\n",
    "+ \"<br/>Lösung:<br/>\" \n",
    "+ \"$E = {:.2~P}$; \".format(E))"
   ]
  },
  {
   "cell_type": "code",
   "execution_count": null,
   "metadata": {},
   "outputs": [],
   "source": []
  }
 ],
 "metadata": {
  "kernelspec": {
   "display_name": "Python 3",
   "language": "python",
   "name": "python3"
  },
  "language_info": {
   "codemirror_mode": {
    "name": "ipython",
    "version": 3
   },
   "file_extension": ".py",
   "mimetype": "text/x-python",
   "name": "python",
   "nbconvert_exporter": "python",
   "pygments_lexer": "ipython3",
   "version": "3.6.8"
  }
 },
 "nbformat": 4,
 "nbformat_minor": 2
}
