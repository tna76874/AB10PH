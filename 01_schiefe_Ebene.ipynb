{
 "cells": [
  {
   "cell_type": "code",
   "execution_count": 1,
   "metadata": {},
   "outputs": [],
   "source": [
    "from __future__ import division\n",
    "from IPython.display import display\n",
    "from IPython.display import Markdown as md\n",
    "from IPython.core.display import SVG\n",
    "from sympy.interactive import printing\n",
    "printing.init_printing(use_latex='mathjax')\n",
    "\n",
    "import pandas as pd\n",
    "import numpy as np\n",
    "\n",
    "import sympy as sp\n",
    "sf = sp.sympify\n",
    "\n",
    "import scipy.constants as cm\n",
    "import pint as pn\n",
    "ureg = pn.UnitRegistry(system='mks')\n",
    "ureg.default_format = '~P'\n",
    "pe = ureg.parse_expression\n",
    "\n",
    "## Konstanten und Einheiten\n",
    "CM = pd.DataFrame(cm.physical_constants).T\n",
    "CM['c'] = CM.index\n",
    "CM = CM.reset_index(drop=True)\n",
    "def getpc(quant):\n",
    "    DF = CM\n",
    "    DF = DF[DF['c']==quant].reset_index(drop=True)\n",
    "    quan = DF[0][0] * ureg(DF[1][0])\n",
    "    return quan"
   ]
  },
  {
   "cell_type": "code",
   "execution_count": 2,
   "metadata": {},
   "outputs": [],
   "source": [
    "g = getpc('standard acceleration of gravity')\n",
    "m_e = getpc('electron mass')\n",
    "e = getpc('elementary charge')\n",
    "c = getpc('speed of light in vacuum')\n",
    "e0 = getpc('electric constant')\n",
    "mu0 = getpc('mag. constant')"
   ]
  },
  {
   "cell_type": "code",
   "execution_count": 3,
   "metadata": {},
   "outputs": [
    {
     "data": {
      "text/html": [
       "<script>\n",
       "code_show=true; \n",
       "function code_toggle() {\n",
       " if (code_show){\n",
       " $('div.input').hide();\n",
       " } else {\n",
       " $('div.input').show();\n",
       " }\n",
       " code_show = !code_show\n",
       "} \n",
       "$( document ).ready(code_toggle);\n",
       "</script>\n",
       "<form action=\"javascript:code_toggle()\"><input type=\"submit\" value=\"Quellcode an/aus schalten.\"></form>"
      ],
      "text/plain": [
       "<IPython.core.display.HTML object>"
      ]
     },
     "execution_count": 3,
     "metadata": {},
     "output_type": "execute_result"
    }
   ],
   "source": [
    "from IPython.display import HTML\n",
    "\n",
    "HTML('''<script>\n",
    "code_show=true; \n",
    "function code_toggle() {\n",
    " if (code_show){\n",
    " $('div.input').hide();\n",
    " } else {\n",
    " $('div.input').show();\n",
    " }\n",
    " code_show = !code_show\n",
    "} \n",
    "$( document ).ready(code_toggle);\n",
    "</script>\n",
    "<form action=\"javascript:code_toggle()\"><input type=\"submit\" value=\"Quellcode an/aus schalten.\"></form>''')"
   ]
  },
  {
   "cell_type": "markdown",
   "metadata": {},
   "source": [
    "# schiefe Ebene"
   ]
  },
  {
   "cell_type": "code",
   "execution_count": 4,
   "metadata": {},
   "outputs": [
    {
     "data": {
      "text/html": [
       "\n",
       "        <iframe\n",
       "            width=\"250\"\n",
       "            height=\"250\"\n",
       "            src=\"./material/schiefeebene.html\"\n",
       "            frameborder=\"0\"\n",
       "            allowfullscreen\n",
       "        ></iframe>\n",
       "        "
      ],
      "text/plain": [
       "<IPython.lib.display.IFrame at 0x7f59b450e240>"
      ]
     },
     "execution_count": 4,
     "metadata": {},
     "output_type": "execute_result"
    }
   ],
   "source": [
    "from IPython.display import IFrame\n",
    "\n",
    "IFrame(src='./material/schiefeebene.html', width=250, height=250)"
   ]
  },
  {
   "cell_type": "markdown",
   "metadata": {},
   "source": [
    "## Aufgabe 1\n",
    "### a) \n",
    "$$\\begin{eqnarray}\n",
    "F_G &=& m \\cdot a = m \\cdot g\\\\\n",
    "m &=& \\frac{F_G}{g}\n",
    "\\end{eqnarray}$$"
   ]
  },
  {
   "cell_type": "code",
   "execution_count": 5,
   "metadata": {},
   "outputs": [
    {
     "data": {
      "text/markdown": [
       "Gegeben: <br/> $F_G = 120 kN$<br/>Lösung:<br/>$m = 12.237 t$"
      ],
      "text/plain": [
       "<IPython.core.display.Markdown object>"
      ]
     },
     "execution_count": 5,
     "metadata": {},
     "output_type": "execute_result"
    }
   ],
   "source": [
    "Fg = pe('120kN')\n",
    "\n",
    "m = (Fg/g).to('tonnes')\n",
    "\n",
    "md(\"Gegeben: <br/>\"\n",
    "+ \" $F_G = {:~P}$\".format(Fg) \n",
    "+ \"<br/>Lösung:<br/>\" \n",
    "+ \"$m = {:.5~P}$\".format(m))"
   ]
  },
  {
   "cell_type": "markdown",
   "metadata": {},
   "source": [
    "### b)\n",
    "$$\\begin{eqnarray}\n",
    "F_H &=& F_G \\cdot \\sin{(\\alpha)}\n",
    "\\end{eqnarray}$$"
   ]
  },
  {
   "cell_type": "code",
   "execution_count": 6,
   "metadata": {},
   "outputs": [
    {
     "data": {
      "text/markdown": [
       "Gegeben: <br/> $F_G = 120 kN$; $\\alpha = 25.6 deg$<br/>Lösung:<br/>$F_H = 51.85 kN$"
      ],
      "text/plain": [
       "<IPython.core.display.Markdown object>"
      ]
     },
     "execution_count": 6,
     "metadata": {},
     "output_type": "execute_result"
    }
   ],
   "source": [
    "Fg = pe('120kN')\n",
    "alpha  = pe('25.6degrees')\n",
    "\n",
    "F_H = Fg*np.sin(alpha)\n",
    "\n",
    "md(\"Gegeben: <br/>\"\n",
    "+ \" $F_G = {:~P}$\".format(Fg)\n",
    "+ \"; $\\\\alpha = {:~P}$\".format(alpha)\n",
    "+ \"<br/>Lösung:<br/>\" \n",
    "+ \"$F_H = {:.5~P}$\".format(F_H))"
   ]
  },
  {
   "cell_type": "markdown",
   "metadata": {},
   "source": [
    "### c)\n",
    "$$\\begin{eqnarray}\n",
    "a &=& \\frac{F_H}{m} \\\\\n",
    "v &=& a \\cdot t + v_0 = a \\cdot t = \\frac{F_H}{m} \\cdot t\n",
    "\\end{eqnarray}$$"
   ]
  },
  {
   "cell_type": "code",
   "execution_count": 7,
   "metadata": {},
   "outputs": [
    {
     "data": {
      "text/markdown": [
       "Gegeben: <br/> $F_H = 51.9 kN$; $t = 2 s$<br/>Lösung:<br/>$a = 4.2 m/s²$; $v = 8.5 m/s$"
      ],
      "text/plain": [
       "<IPython.core.display.Markdown object>"
      ]
     },
     "execution_count": 7,
     "metadata": {},
     "output_type": "execute_result"
    }
   ],
   "source": [
    "t = pe('2s')\n",
    "\n",
    "a = (F_H/m).to('m/s**2')\n",
    "v = (a*t).to('m/s')\n",
    "\n",
    "md(\"Gegeben: <br/>\"\n",
    "+ \" $F_H = {:.3~P}$\".format(F_H)\n",
    "+ \"; $t = {:~P}$\".format(t)\n",
    "+ \"<br/>Lösung:<br/>\" \n",
    "+ \"$a = {:.2~P}$\".format(a)\n",
    "+ \"; $v = {:.2~P}$\".format(v))"
   ]
  },
  {
   "cell_type": "markdown",
   "metadata": {},
   "source": [
    "## Aufgabe 4\n",
    "### a)\n",
    "$$\\begin{eqnarray}\n",
    "\\alpha &=& \\tan^{-1}\\left (\\frac{0.38}{1} \\right) \\\\\n",
    "F_H &=& F_G \\cdot \\sin{(\\alpha)}\n",
    "\\end{eqnarray}$$"
   ]
  },
  {
   "cell_type": "code",
   "execution_count": 8,
   "metadata": {},
   "outputs": [
    {
     "data": {
      "text/markdown": [
       "Gegeben: <br/> $F_G = 120 kN$; $\\alpha = 20.8 deg$<br/>Lösung:<br/>$F_H = 42.626 kN$"
      ],
      "text/plain": [
       "<IPython.core.display.Markdown object>"
      ]
     },
     "execution_count": 8,
     "metadata": {},
     "output_type": "execute_result"
    }
   ],
   "source": [
    "Fg = pe('120kN')\n",
    "st  = pe('0.38 m/m')\n",
    "alpha = np.arctan(st).to('degrees')\n",
    "\n",
    "F_H = Fg*np.sin(alpha)\n",
    "\n",
    "md(\"Gegeben: <br/>\"\n",
    "+ \" $F_G = {:~P}$\".format(Fg)\n",
    "+ \"; $\\\\alpha = {:.3~P}$\".format(alpha)\n",
    "+ \"<br/>Lösung:<br/>\" \n",
    "+ \"$F_H = {:.5~P}$\".format(F_H))"
   ]
  },
  {
   "cell_type": "markdown",
   "metadata": {},
   "source": [
    "### b)\n",
    "gegeben: $s_0$; $v_0$; $t$\n",
    "\n",
    "gesucht: $a$; $s$\n",
    "\n",
    "Lösung mit F2: $s = \\frac{1}{2} a t^2 + v_0 t + s_0$\n",
    "\n",
    "Die Bremsen versagen und die Bahn \"rollt aus\". Danach fängt sie an sich den Berg hinunter zu bewegen.\n",
    "\n",
    "$$\\begin{eqnarray}\n",
    "\\sin{(\\alpha)} &=& \\frac{\\Delta h}{s} \\\\\n",
    "\\Delta h  &=&s \\sin{(\\alpha)} \\\\\n",
    "h &=& h_0 + \\Delta h\n",
    "\\end{eqnarray}$$"
   ]
  },
  {
   "cell_type": "code",
   "execution_count": 9,
   "metadata": {},
   "outputs": [
    {
     "data": {
      "text/markdown": [
       "Gegeben: <br/> $h_0 = 1000 m$; $t = 5 s$; $m = 12.2 t$; $v_0 = 3.33 m/s$; $s_0 = 0 m$<br/>Lösung:<br/>$ s = -26.9 m$; $ \\Delta h = -9.55 m$; $ h= 990.5 m$"
      ],
      "text/plain": [
       "<IPython.core.display.Markdown object>"
      ]
     },
     "execution_count": 9,
     "metadata": {},
     "output_type": "execute_result"
    }
   ],
   "source": [
    "Fg = pe('120kN')\n",
    "m = (Fg/g).to('tonnes')\n",
    "\n",
    "st  = pe('0.38 m/m')\n",
    "alpha = np.arctan(st).to('degrees')\n",
    "\n",
    "F_H = Fg*np.sin(alpha)\n",
    "\n",
    "h0 = pe('1000m')\n",
    "t = pe('5s')\n",
    "v0 = pe('12km/hour').to_base_units()\n",
    "s0 = pe('0m')\n",
    "\n",
    "a = -(F_H/m).to('m/s**2')\n",
    "\n",
    "s = a*t**2/2 + v0*t+s0\n",
    "\n",
    "dh = s * np.sin(alpha)\n",
    "h = h0 + dh\n",
    "\n",
    "md(\"Gegeben: <br/>\"\n",
    "+ \" $h_0 = {:~P}$\".format(h0)\n",
    "+ \"; $t = {:~P}$\".format(t)\n",
    "+ \"; $m = {:.3~P}$\".format(m)\n",
    "+ \"; $v_0 = {:.3~P}$\".format(v0)\n",
    "+ \"; $s_0 = {:~P}$\".format(s0)\n",
    "+ \"<br/>Lösung:<br/>\" \n",
    "+ \"$ s = {:.3~P}$\".format(s)\n",
    "+ \"; $ \\\\Delta h = {:.3~P}$\".format(dh)\n",
    "+ \"; $ h= {:.4~P}$\".format(h))"
   ]
  },
  {
   "cell_type": "code",
   "execution_count": null,
   "metadata": {},
   "outputs": [],
   "source": []
  }
 ],
 "metadata": {
  "kernelspec": {
   "display_name": "Python 3",
   "language": "python",
   "name": "python3"
  },
  "language_info": {
   "codemirror_mode": {
    "name": "ipython",
    "version": 3
   },
   "file_extension": ".py",
   "mimetype": "text/x-python",
   "name": "python",
   "nbconvert_exporter": "python",
   "pygments_lexer": "ipython3",
   "version": "3.7.3"
  }
 },
 "nbformat": 4,
 "nbformat_minor": 2
}
