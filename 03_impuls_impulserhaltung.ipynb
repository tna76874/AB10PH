{
 "cells": [
  {
   "cell_type": "code",
   "execution_count": 1,
   "metadata": {},
   "outputs": [],
   "source": [
    "from __future__ import division\n",
    "from IPython.display import display\n",
    "from IPython.display import Markdown as md\n",
    "from IPython.core.display import SVG\n",
    "from sympy.interactive import printing\n",
    "printing.init_printing(use_latex='mathjax')\n",
    "\n",
    "import pandas as pd\n",
    "import numpy as np\n",
    "\n",
    "import sympy as sp\n",
    "sf = sp.sympify\n",
    "\n",
    "import scipy.constants as cm\n",
    "import pint as pn\n",
    "ureg = pn.UnitRegistry(system='mks')\n",
    "ureg.default_format = '~P'\n",
    "pe = ureg.parse_expression\n",
    "\n",
    "## Konstanten und Einheiten\n",
    "CM = pd.DataFrame(cm.physical_constants).T\n",
    "CM['c'] = CM.index\n",
    "CM = CM.reset_index(drop=True)\n",
    "def getpc(quant):\n",
    "    DF = CM\n",
    "    DF = DF[DF['c']==quant].reset_index(drop=True)\n",
    "    quan = DF[0][0] * ureg(DF[1][0])\n",
    "    return quan"
   ]
  },
  {
   "cell_type": "code",
   "execution_count": 2,
   "metadata": {},
   "outputs": [],
   "source": [
    "g = getpc('standard acceleration of gravity')\n",
    "m_e = getpc('electron mass')\n",
    "e = getpc('elementary charge')\n",
    "c = getpc('speed of light in vacuum')\n",
    "e0 = getpc('electric constant')\n",
    "mu0 = getpc('mag. constant')"
   ]
  },
  {
   "cell_type": "code",
   "execution_count": 3,
   "metadata": {},
   "outputs": [
    {
     "data": {
      "text/html": [
       "<script>\n",
       "code_show=true; \n",
       "function code_toggle() {\n",
       " if (code_show){\n",
       " $('div.input').hide();\n",
       " } else {\n",
       " $('div.input').show();\n",
       " }\n",
       " code_show = !code_show\n",
       "} \n",
       "$( document ).ready(code_toggle);\n",
       "</script>\n",
       "<form action=\"javascript:code_toggle()\"><input type=\"submit\" value=\"Quellcode an/aus schalten.\"></form>"
      ],
      "text/plain": [
       "<IPython.core.display.HTML object>"
      ]
     },
     "execution_count": 3,
     "metadata": {},
     "output_type": "execute_result"
    }
   ],
   "source": [
    "from IPython.display import HTML\n",
    "\n",
    "HTML('''<script>\n",
    "code_show=true; \n",
    "function code_toggle() {\n",
    " if (code_show){\n",
    " $('div.input').hide();\n",
    " } else {\n",
    " $('div.input').show();\n",
    " }\n",
    " code_show = !code_show\n",
    "} \n",
    "$( document ).ready(code_toggle);\n",
    "</script>\n",
    "<form action=\"javascript:code_toggle()\"><input type=\"submit\" value=\"Quellcode an/aus schalten.\"></form>''')"
   ]
  },
  {
   "cell_type": "markdown",
   "metadata": {},
   "source": [
    "# AB Impuls und Impulserhaltung"
   ]
  },
  {
   "cell_type": "markdown",
   "metadata": {},
   "source": [
    "## Aufgabe 1\n",
    "Der Impuls ist das Produkt aus Masse eines Körpers und seiner Geschwindigkeit. Die Masse ist eine mengenhafte Größe ohne Richtung - also eine skalare Größe. Die Geschwindigkeit ist eine vektorielle Größe. Das Produkt aus beidem ist wiederum eine vektorielle Größe. Der Impuls hat die gleiche Richtung wie die Geschwindigkeit."
   ]
  },
  {
   "cell_type": "markdown",
   "metadata": {},
   "source": [
    "## Aufgabe 2\n",
    "Gesucht ist die Geschwindigkeit $v$ die ein Körper hat, wenn er aus 10m Höhe fallen gelassen wird.\n",
    "$$\\begin{eqnarray}\n",
    "v^2 &=& 2 a (s-s_0)+v_0^2 \\\\\n",
    "v^2 &=& 2 s \\cdot g \\\\\n",
    "v &=& \\sqrt{2 s g}\n",
    "\\end{eqnarray}$$\n",
    "Der Impuls ist dann $p=m\\cdot v$"
   ]
  },
  {
   "cell_type": "code",
   "execution_count": 4,
   "metadata": {},
   "outputs": [
    {
     "data": {
      "text/markdown": [
       "Gegeben: <br/> $m = 5 kg$; $s = 10 m$<br/>Lösung:<br/>$v = 14.00474919446971 m/s$"
      ],
      "text/plain": [
       "<IPython.core.display.Markdown object>"
      ]
     },
     "execution_count": 4,
     "metadata": {},
     "output_type": "execute_result"
    }
   ],
   "source": [
    "m = pe('5kg')\n",
    "s = pe('10m')\n",
    "\n",
    "v = (np.sqrt(2*s*g)).to('m/s')\n",
    "p = (m*v).to('kg*m/s')\n",
    "\n",
    "md(\"Gegeben: <br/>\"\n",
    "+ \" $m = {:~P}$\".format(m) \n",
    "+ \"; $s = {:~P}$\".format(s) \n",
    "+ \"<br/>Lösung:<br/>\" \n",
    "+ \"$v = {:.1~P}$\".format(v))"
   ]
  },
  {
   "cell_type": "code",
   "execution_count": null,
   "metadata": {},
   "outputs": [],
   "source": []
  }
 ],
 "metadata": {
  "kernelspec": {
   "display_name": "Python 3",
   "language": "python",
   "name": "python3"
  },
  "language_info": {
   "codemirror_mode": {
    "name": "ipython",
    "version": 3
   },
   "file_extension": ".py",
   "mimetype": "text/x-python",
   "name": "python",
   "nbconvert_exporter": "python",
   "pygments_lexer": "ipython3",
   "version": "3.6.8"
  }
 },
 "nbformat": 4,
 "nbformat_minor": 2
}
