{
 "cells": [
  {
   "cell_type": "code",
   "execution_count": 1,
   "metadata": {},
   "outputs": [],
   "source": [
    "from __future__ import division\n",
    "from IPython.display import display\n",
    "from IPython.display import Markdown as md\n",
    "from IPython.core.display import SVG\n",
    "from sympy.interactive import printing\n",
    "printing.init_printing(use_latex='mathjax')\n",
    "\n",
    "import pandas as pd\n",
    "import numpy as np\n",
    "\n",
    "import sympy as sp\n",
    "sf = sp.sympify\n",
    "\n",
    "import scipy.constants as cm\n",
    "import pint as pn\n",
    "ureg = pn.UnitRegistry(system='mks')\n",
    "ureg.default_format = '~P'\n",
    "pe = ureg.parse_expression\n",
    "\n",
    "## Konstanten und Einheiten\n",
    "CM = pd.DataFrame(cm.physical_constants).T\n",
    "CM['c'] = CM.index\n",
    "CM = CM.reset_index(drop=True)\n",
    "def getpc(quant):\n",
    "    DF = CM\n",
    "    DF = DF[DF['c']==quant].reset_index(drop=True)\n",
    "    quan = DF[0][0] * ureg(DF[1][0])\n",
    "    return quan"
   ]
  },
  {
   "cell_type": "code",
   "execution_count": 2,
   "metadata": {},
   "outputs": [],
   "source": [
    "g = getpc('standard acceleration of gravity')\n",
    "m_e = getpc('electron mass')\n",
    "e = getpc('elementary charge')\n",
    "c = getpc('speed of light in vacuum')\n",
    "e0 = getpc('electric constant')\n",
    "mu0 = getpc('mag. constant')"
   ]
  },
  {
   "cell_type": "code",
   "execution_count": 3,
   "metadata": {},
   "outputs": [
    {
     "data": {
      "text/html": [
       "<script>\n",
       "code_show=true; \n",
       "function code_toggle() {\n",
       " if (code_show){\n",
       " $('div.input').hide();\n",
       " } else {\n",
       " $('div.input').show();\n",
       " }\n",
       " code_show = !code_show\n",
       "} \n",
       "$( document ).ready(code_toggle);\n",
       "</script>\n",
       "<form action=\"javascript:code_toggle()\"><input type=\"submit\" value=\"Quellcode an/aus schalten.\"></form>"
      ],
      "text/plain": [
       "<IPython.core.display.HTML object>"
      ]
     },
     "execution_count": 3,
     "metadata": {},
     "output_type": "execute_result"
    }
   ],
   "source": [
    "from IPython.display import HTML\n",
    "\n",
    "HTML('''<script>\n",
    "code_show=true; \n",
    "function code_toggle() {\n",
    " if (code_show){\n",
    " $('div.input').hide();\n",
    " } else {\n",
    " $('div.input').show();\n",
    " }\n",
    " code_show = !code_show\n",
    "} \n",
    "$( document ).ready(code_toggle);\n",
    "</script>\n",
    "<form action=\"javascript:code_toggle()\"><input type=\"submit\" value=\"Quellcode an/aus schalten.\"></form>''')"
   ]
  },
  {
   "cell_type": "markdown",
   "metadata": {},
   "source": [
    "# AB Impuls und Impulserhaltung"
   ]
  },
  {
   "cell_type": "markdown",
   "metadata": {},
   "source": [
    "## Aufgabe 1\n",
    "Der Impuls ist das Produkt aus Masse eines Körpers und seiner Geschwindigkeit. Die Masse ist eine mengenhafte Größe ohne Richtung - also eine skalare Größe. Die Geschwindigkeit ist eine vektorielle Größe. Das Produkt aus beidem ist wiederum eine vektorielle Größe. Der Impuls hat die gleiche Richtung wie die Geschwindigkeit."
   ]
  },
  {
   "cell_type": "markdown",
   "metadata": {},
   "source": [
    "## Aufgabe 2\n",
    "Gesucht ist die Geschwindigkeit $v$ die ein Körper hat, wenn er aus 10m Höhe fallen gelassen wird.\n",
    "$$\\begin{eqnarray}\n",
    "v^2 &=& 2 a (s-s_0)+v_0^2 \\\\\n",
    "v^2 &=& 2 s \\cdot g \\\\\n",
    "v &=& \\sqrt{2 s g}\n",
    "\\end{eqnarray}$$\n",
    "Der Impuls ist dann $p=m\\cdot v$"
   ]
  },
  {
   "cell_type": "code",
   "execution_count": 4,
   "metadata": {},
   "outputs": [
    {
     "data": {
      "text/markdown": [
       "Gegeben: <br/> $m = 5 kg$; $s = 10 m$<br/>Lösung:<br/>$v = 14.0 m/s$; $p = 70.0 kg·m/s$"
      ],
      "text/plain": [
       "<IPython.core.display.Markdown object>"
      ]
     },
     "execution_count": 4,
     "metadata": {},
     "output_type": "execute_result"
    }
   ],
   "source": [
    "m = pe('5kg')\n",
    "s = pe('10m')\n",
    "\n",
    "v = (np.sqrt(2*s*g)).to('m/s')\n",
    "p = (m*v).to('kg*m/s')\n",
    "\n",
    "md(\"Gegeben: <br/>\"\n",
    "+ \" $m = {:~P}$\".format(m) \n",
    "+ \"; $s = {:~P}$\".format(s) \n",
    "+ \"<br/>Lösung:<br/>\" \n",
    "+ \"$v = {:.3~P}$; \".format(v)\n",
    "+ \"$p = {:.3~P}$\".format(p))"
   ]
  },
  {
   "cell_type": "markdown",
   "metadata": {},
   "source": [
    "## Aufgabe 3\n",
    "Gegeben sind Masse und Geschwindigkeit eines Golfballes (Index G) und eines Tennisballes (Index T). Um die Impulse miteinander zu **vergleichen** bildet man den Quotienten $p_G/p_T$:"
   ]
  },
  {
   "cell_type": "code",
   "execution_count": 5,
   "metadata": {},
   "outputs": [
    {
     "data": {
      "text/markdown": [
       "Gegeben: <br/> $m_G = 0.06 kg$; $v_G = 61.1 m/s$; $m_T = 0.05 kg$; $v_T = 69.4 m/s$<br/>Lösung:<br/>$p_G = 3.67 kg·m/s$; $p_T = 3.47 kg·m/s$; $\\frac{p_G}{p_T} = 1.06$"
      ],
      "text/plain": [
       "<IPython.core.display.Markdown object>"
      ]
     },
     "execution_count": 5,
     "metadata": {},
     "output_type": "execute_result"
    }
   ],
   "source": [
    "m_G = pe('60g').to('kg')\n",
    "v_G = pe('220km/hour').to('m/s')\n",
    "p_G = (m_G*v_G).to('kg*m/s')\n",
    "\n",
    "m_T = pe('50g').to('kg')\n",
    "v_T = pe('250km/hour').to('m/s')\n",
    "p_T = (m_T*v_T).to('kg*m/s')\n",
    "\n",
    "vh = p_G/p_T\n",
    "\n",
    "\n",
    "md(\"Gegeben: <br/>\"\n",
    "+ \" $m_G = {:~P}$\".format(m_G) \n",
    "+ \"; $v_G = {:.3~P}$\".format(v_G)\n",
    "+ \"; $m_T = {:~P}$\".format(m_T)\n",
    "+ \"; $v_T = {:.3~P}$\".format(v_T)\n",
    "+ \"<br/>Lösung:<br/>\" \n",
    "+ \"$p_G = {:.3~P}$; \".format(p_G)\n",
    "+ \"$p_T = {:.3~P}$; \".format(p_T)\n",
    "+ \"$\\\\frac{{p_G}}{{p_T}} = {:.3~P}$\".format(vh))"
   ]
  },
  {
   "cell_type": "markdown",
   "metadata": {},
   "source": [
    "Der Golfball hat einen $6\\%$ höheren Impuls als der Tennisball."
   ]
  },
  {
   "cell_type": "markdown",
   "metadata": {},
   "source": [
    "## Aufgabe 13\n",
    "https://www.leifiphysik.de/mechanik/erhaltungssaetze-und-stoesse/aufgabe/rueckstoss-beim-gewehr"
   ]
  },
  {
   "cell_type": "code",
   "execution_count": null,
   "metadata": {},
   "outputs": [],
   "source": []
  }
 ],
 "metadata": {
  "kernelspec": {
   "display_name": "Python 3",
   "language": "python",
   "name": "python3"
  },
  "language_info": {
   "codemirror_mode": {
    "name": "ipython",
    "version": 3
   },
   "file_extension": ".py",
   "mimetype": "text/x-python",
   "name": "python",
   "nbconvert_exporter": "python",
   "pygments_lexer": "ipython3",
   "version": "3.6.8"
  }
 },
 "nbformat": 4,
 "nbformat_minor": 2
}
