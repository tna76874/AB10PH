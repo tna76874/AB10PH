{
 "cells": [
  {
   "cell_type": "code",
   "execution_count": 1,
   "metadata": {},
   "outputs": [],
   "source": [
    "from __future__ import division\n",
    "from IPython.display import display\n",
    "from IPython.display import Markdown as md\n",
    "from IPython.core.display import SVG\n",
    "from sympy.interactive import printing\n",
    "printing.init_printing(use_latex='mathjax')\n",
    "\n",
    "import pandas as pd\n",
    "import numpy as np\n",
    "\n",
    "import sympy as sp\n",
    "sf = sp.sympify\n",
    "\n",
    "import scipy.constants as cm\n",
    "import pint as pn\n",
    "ureg = pn.UnitRegistry(system='mks')\n",
    "ureg.default_format = '~P'\n",
    "pe = ureg.parse_expression\n",
    "\n",
    "## Konstanten und Einheiten\n",
    "CM = pd.DataFrame(cm.physical_constants).T\n",
    "CM['c'] = CM.index\n",
    "CM = CM.reset_index(drop=True)\n",
    "def getpc(quant):\n",
    "    DF = CM\n",
    "    DF = DF[DF['c']==quant].reset_index(drop=True)\n",
    "    quan = DF[0][0] * ureg(DF[1][0])\n",
    "    return quan"
   ]
  },
  {
   "cell_type": "code",
   "execution_count": 2,
   "metadata": {},
   "outputs": [],
   "source": [
    "g = getpc('standard acceleration of gravity')\n",
    "m_e = getpc('electron mass')\n",
    "e = getpc('elementary charge')\n",
    "c = getpc('speed of light in vacuum')\n",
    "e0 = getpc('electric constant')\n",
    "mu0 = getpc('mag. constant')"
   ]
  },
  {
   "cell_type": "code",
   "execution_count": 3,
   "metadata": {},
   "outputs": [
    {
     "data": {
      "text/html": [
       "<script>\n",
       "code_show=true; \n",
       "function code_toggle() {\n",
       " if (code_show){\n",
       " $('div.input').hide();\n",
       " } else {\n",
       " $('div.input').show();\n",
       " }\n",
       " code_show = !code_show\n",
       "} \n",
       "$( document ).ready(code_toggle);\n",
       "</script>\n",
       "<form action=\"javascript:code_toggle()\"><input type=\"submit\" value=\"Quellcode an/aus schalten.\"></form>"
      ],
      "text/plain": [
       "<IPython.core.display.HTML object>"
      ]
     },
     "execution_count": 3,
     "metadata": {},
     "output_type": "execute_result"
    }
   ],
   "source": [
    "from IPython.display import HTML\n",
    "\n",
    "HTML('''<script>\n",
    "code_show=true; \n",
    "function code_toggle() {\n",
    " if (code_show){\n",
    " $('div.input').hide();\n",
    " } else {\n",
    " $('div.input').show();\n",
    " }\n",
    " code_show = !code_show\n",
    "} \n",
    "$( document ).ready(code_toggle);\n",
    "</script>\n",
    "<form action=\"javascript:code_toggle()\"><input type=\"submit\" value=\"Quellcode an/aus schalten.\"></form>''')"
   ]
  },
  {
   "cell_type": "markdown",
   "metadata": {},
   "source": [
    "# AB Impuls und Impulserhaltung"
   ]
  },
  {
   "cell_type": "markdown",
   "metadata": {},
   "source": [
    "## Aufgabe 1\n",
    "Der Impuls ist das Produkt aus Masse eines Körpers und seiner Geschwindigkeit. Die Masse ist eine mengenhafte Größe ohne Richtung - also eine skalare Größe. Die Geschwindigkeit ist eine vektorielle Größe. Das Produkt aus beidem ist wiederum eine vektorielle Größe. Der Impuls hat die gleiche Richtung wie die Geschwindigkeit."
   ]
  },
  {
   "cell_type": "markdown",
   "metadata": {},
   "source": [
    "## Aufgabe 2\n",
    "Gesucht ist die Geschwindigkeit $v$ die ein Körper hat, wenn er aus 10m Höhe fallen gelassen wird.\n",
    "$$\\begin{eqnarray}\n",
    "v^2 &=& 2 a (s-s_0)+v_0^2 \\\\\n",
    "v^2 &=& 2 s \\cdot g \\\\\n",
    "v &=& \\sqrt{2 s g}\n",
    "\\end{eqnarray}$$\n",
    "Der Impuls ist dann $p=m\\cdot v$"
   ]
  },
  {
   "cell_type": "code",
   "execution_count": 4,
   "metadata": {},
   "outputs": [
    {
     "data": {
      "text/markdown": [
       "Gegeben: <br/> $m = 5 kg$; $s = 10 m$<br/>Lösung:<br/>$v = 14.0 m/s$; $p = 70.0 kg·m/s$"
      ],
      "text/plain": [
       "<IPython.core.display.Markdown object>"
      ]
     },
     "execution_count": 4,
     "metadata": {},
     "output_type": "execute_result"
    }
   ],
   "source": [
    "m = pe('5kg')\n",
    "s = pe('10m')\n",
    "\n",
    "v = (np.sqrt(2*s*g)).to('m/s')\n",
    "p = (m*v).to('kg*m/s')\n",
    "\n",
    "md(\"Gegeben: <br/>\"\n",
    "+ \" $m = {:~P}$\".format(m) \n",
    "+ \"; $s = {:~P}$\".format(s) \n",
    "+ \"<br/>Lösung:<br/>\" \n",
    "+ \"$v = {:.3~P}$; \".format(v)\n",
    "+ \"$p = {:.3~P}$\".format(p))"
   ]
  },
  {
   "cell_type": "markdown",
   "metadata": {},
   "source": [
    "## Aufgabe 3\n",
    "Gegeben sind Masse und Geschwindigkeit eines Golfballes (Index G) und eines Tennisballes (Index T). Um die Impulse miteinander zu **vergleichen** bildet man den Quotienten $p_G/p_T$:"
   ]
  },
  {
   "cell_type": "code",
   "execution_count": 5,
   "metadata": {},
   "outputs": [
    {
     "data": {
      "text/markdown": [
       "Gegeben: <br/> $m_G = 0.06 kg$; $v_G = 61.1 m/s$; $m_T = 0.05 kg$; $v_T = 69.4 m/s$<br/>Lösung:<br/>$p_G = 3.67 kg·m/s$; $p_T = 3.47 kg·m/s$; $\\frac{p_G}{p_T} = 1.06$"
      ],
      "text/plain": [
       "<IPython.core.display.Markdown object>"
      ]
     },
     "execution_count": 5,
     "metadata": {},
     "output_type": "execute_result"
    }
   ],
   "source": [
    "m_G = pe('60g').to('kg')\n",
    "v_G = pe('220km/hour').to('m/s')\n",
    "p_G = (m_G*v_G).to('kg*m/s')\n",
    "\n",
    "m_T = pe('50g').to('kg')\n",
    "v_T = pe('250km/hour').to('m/s')\n",
    "p_T = (m_T*v_T).to('kg*m/s')\n",
    "\n",
    "vh = p_G/p_T\n",
    "\n",
    "\n",
    "md(\"Gegeben: <br/>\"\n",
    "+ \" $m_G = {:~P}$\".format(m_G) \n",
    "+ \"; $v_G = {:.3~P}$\".format(v_G)\n",
    "+ \"; $m_T = {:~P}$\".format(m_T)\n",
    "+ \"; $v_T = {:.3~P}$\".format(v_T)\n",
    "+ \"<br/>Lösung:<br/>\" \n",
    "+ \"$p_G = {:.3~P}$; \".format(p_G)\n",
    "+ \"$p_T = {:.3~P}$; \".format(p_T)\n",
    "+ \"$\\\\frac{{p_G}}{{p_T}} = {:.3~P}$\".format(vh))"
   ]
  },
  {
   "cell_type": "markdown",
   "metadata": {},
   "source": [
    "Der Golfball hat einen $6\\%$ höheren Impuls als der Tennisball."
   ]
  },
  {
   "cell_type": "markdown",
   "metadata": {},
   "source": [
    "## Aufgabe 4\n",
    "Ein abgeschlossenes System tauscht mit seiner Umgebung keine Energie und keinen Impuls aus. Ein impulsmäßig abgeschlossenes System, kann keinen Impuls an seine Umgebung abgeben oder neuen aufnehmen - der Impuls bleibt erhalten.\n",
    "Abgeschlossenes System: See mit Boot"
   ]
  },
  {
   "cell_type": "markdown",
   "metadata": {},
   "source": [
    "## Aufgabe 5\n",
    "### a)\n",
    "Es gilt:\n",
    "$$\\begin{eqnarray}\n",
    "p_1 &=& m_1 \\cdot v_1 = m_1 \\cdot 3 v_2 \\\\\n",
    "p_2 &=& m_2 \\cdot v_2 = 2 m_1 \\cdot v_2 \\\\\n",
    "\\frac{p_1}{p_2} &=& \\frac{m_1 \\cdot 3 v_2}{2 m_1 \\cdot v_2} = \\frac{3}{2} \\\\\n",
    "\\end{eqnarray}$$\n",
    "$p_1$ verhält sich zu $p_2$ wie 3 zu 2. $p_1$ ist 50% größer als $p_2$"
   ]
  },
  {
   "cell_type": "markdown",
   "metadata": {},
   "source": [
    "### b)\n",
    "Der Gesamtimpuls des abgeschlossenen Systems PKW-Kleinbus ist die Summe der Impulse $p = + p_1 - p_2 = \\frac{1}{2} p_2$. Hierbei muss beachtet werden, dass sich die Objekte aufeinander zu bewegen (unterschiedliche Vorzeichen der Impulse)."
   ]
  },
  {
   "cell_type": "markdown",
   "metadata": {},
   "source": [
    "### c)\n",
    "Es gilt:\n",
    "$$\\begin{eqnarray}\n",
    "p_1 &=& m_1 \\cdot v_1 = m_1 \\cdot 3 v_2 \\\\\n",
    "p_2 &=& m_2 \\cdot v_2 = 3 m_1 \\cdot v_2 \\\\\n",
    "\\frac{p_1}{p_2} &=& \\frac{m_1 \\cdot 3 v_2}{3 m_1 \\cdot v_2} = \\frac{3}{3} = 1 \\\\\n",
    "\\end{eqnarray}$$\n",
    "Die Impulse sind genau gleich groß. Der Gesamtimpuls ist 0."
   ]
  },
  {
   "cell_type": "markdown",
   "metadata": {},
   "source": [
    "## Aufgabe 6\n",
    "Man betrachtet das abgeschlossene System Luftballon & Luft im Luftballon. Beides befindet sich zu Beginn in Ruhe - der Gesamtimpuls ist 0. Entweicht Luftmasse aus dem Luft bleibt der Gesamtimpuls nur 0 wenn sich der Ballon in die entgegengesetzte Richtung anfängt zu bewegen."
   ]
  },
  {
   "cell_type": "markdown",
   "metadata": {},
   "source": [
    "## Aufgabe 7\n",
    "Bei einer reibungsfreien Eisfläche gibt es keine Möglichkeit sich von der Eisfläche \"abzustoßen\". Da er warm abgezogen ist, wäre es eine Möglichkeit seine Jacke auszuziehen und in eine Richtung wegzuwerfen. Er würde sich anfangen in die entgegengesetzte Richtung zu Bewegen. Wenn man von einer vollständig reibungsfreien Eisfläche ausgeht, dann würde er ungebremst bis zum Ufer rutschten."
   ]
  },
  {
   "cell_type": "markdown",
   "metadata": {},
   "source": [
    "## Aufgabe 8\n",
    "### a)\n",
    "In beiden Fällen ist der Gesamtimpuls des Systems Wagen 1 & Wagen 2 Null, da sich die Wägen zu Beginn in Ruhe befinden.\n",
    "### b)\n",
    "In Schaubild 2.1 sind die Geschwindigkeiten beider Wägen gleich groß, wenn beide Massen gleich groß sind.\n",
    "\n",
    "In Schaubild 2.2 gilt für die Impulse:\n",
    "$$\\begin{eqnarray}\n",
    "p_1 + p_2 &=& 0 \\\\\n",
    "p_1 &=& m_1 \\cdot v_1 \\\\\n",
    "p_2 &=& m_2 \\cdot v_2 = 2 m_1 \\cdot v_2 \\\\\n",
    "p_1 + p_2 &=& m_1 \\cdot v_1 + 2 m_1 \\cdot v_2 = 0 \\\\\n",
    "m_1 \\cdot v_1 &=& 2 m_1 \\cdot v_2 \\\\\n",
    " v_1 &=& 2 \\cdot v_2 \\\\\n",
    " \\frac{v_1}{v_2} &=& 2\n",
    "\\end{eqnarray}$$\n",
    "Die Geschwindigkeit $v_1$ ist doppelt so groß wie $v_2$. Der leichtere Wagen muss doppelt so schnell wie der schwerere Wagen sein, um den gleichen Impulsbetrag zu haben."
   ]
  },
  {
   "cell_type": "markdown",
   "metadata": {},
   "source": [
    "## Aufgabe 9\n",
    "Impuls Fritzchen $p_1$; Impuls Boot $p_2$, Impuls Boot + Fritzchen $p_3$\n",
    "$$\\begin{eqnarray}\n",
    "p_1  &=& m_1 \\cdot v_1 \\\\\n",
    "p_2  &=& m_2 \\cdot 0 \\\\\n",
    "p_3 &=& p_1 + p_2 = p_1 \\\\\n",
    "p_3 &=& (m_1 + m_2) \\cdot v_3  = p_1\\\\\n",
    "(m_1 + m_2) \\cdot v_3  &=& m_1 \\cdot v_1 \\\\\n",
    "v_3 &=& \\frac{m_1 \\cdot v_1}{m_1 + m_2}\n",
    "\\end{eqnarray}$$"
   ]
  },
  {
   "cell_type": "code",
   "execution_count": 6,
   "metadata": {},
   "outputs": [
    {
     "data": {
      "text/markdown": [
       "Gegeben: <br/> $m_1 = 65 kg$; $v_1 = 5.0 m/s$; $m_2 = 80 kg$; $v_2 = 0.0 m/s$<br/>Lösung:<br/>$p_1 = 325.0 kg·m/s$; $p_2 = 0.0 kg·m/s$;$v_3 = 2.76 m/s$;"
      ],
      "text/plain": [
       "<IPython.core.display.Markdown object>"
      ]
     },
     "execution_count": 6,
     "metadata": {},
     "output_type": "execute_result"
    }
   ],
   "source": [
    "m_1 = pe('65kg')\n",
    "v_1 = pe('5m/s')\n",
    "m_2 = pe('80kg')\n",
    "v_2 = pe('0m/s')\n",
    "\n",
    "p_1 = m_1*v_1\n",
    "p_2 = m_2*v_2\n",
    "\n",
    "v_3 = (m_2*v_1 /(m_1+m_2)).to('m/s')\n",
    "\n",
    "md(\"Gegeben: <br/>\"\n",
    "+ \" $m_1 = {:~P}$\".format(m_1) \n",
    "+ \"; $v_1 = {:~P}$\".format(v_1)\n",
    "+ \"; $m_2 = {:~P}$\".format(m_2)\n",
    "+ \"; $v_2 = {:~P}$\".format(v_2)\n",
    "+ \"<br/>Lösung:<br/>\" \n",
    "+ \"$p_1 = {:.4~P}$; \".format(p_1)\n",
    "+ \"$p_2 = {:.3~P}$;\".format(p_2)\n",
    "+ \"$v_3 = {:.3~P}$;\".format(v_3))"
   ]
  },
  {
   "cell_type": "markdown",
   "metadata": {},
   "source": [
    "## Aufgabe 10\n",
    "### a)\n",
    "Dörte stellt sich an das rechte Ende des Wagens und bleibt zuerst in Ruhe. Der Gesamte Impuls des Systems Dörte & Wagen ist 0. Sie setzt sich in Bewegung durch die Haftreibung zwischen ihren Schuhsohlen und dem Wagen (die Rollreibung in den Rollen des Wagens wird vernachlässigt). Wenn sich Dörte mit einer Geschwindigkeit $v_1$ nach links bewegt, dann ist ihr Impuls auch nach links gerichtet. Der Wagen muss einen gleich großen Impuls nach rechts haben, damit der Gesamtimpuls von 0 erhalten bleibt.\n",
    "$$\\begin{eqnarray}\n",
    "p_1  &=& m_1 \\cdot ( - v_1 )\\\\\n",
    "p_2  &=& m_2 \\cdot (+ v_2) \\\\\n",
    "p_1 + p_2 &=& 0 \\\\\n",
    "m_2 \\cdot v_2 - m_1 \\cdot v_1 &=& 0 \\\\\n",
    "v_2 &=& \\frac{m_1}{m_2} v_1\n",
    "\\end{eqnarray}$$"
   ]
  },
  {
   "cell_type": "code",
   "execution_count": 7,
   "metadata": {},
   "outputs": [
    {
     "data": {
      "text/markdown": [
       "Gegeben: <br/> $m_1 = 55 kg$; $v_1 = 1.0 m/s$; $m_2 = 20 kg$<br/>Lösung:<br/>$p_1 = 55.0 kg·m/s$; $v_2 = 2.75 m/s$;"
      ],
      "text/plain": [
       "<IPython.core.display.Markdown object>"
      ]
     },
     "execution_count": 7,
     "metadata": {},
     "output_type": "execute_result"
    }
   ],
   "source": [
    "m_1 = pe('55kg')\n",
    "v_1 = pe('1m/s')\n",
    "m_2 = pe('20kg')\n",
    "\n",
    "p_1 = m_1*v_1\n",
    "\n",
    "v_2 = (m_1/m_2 * v_1).to('m/s')\n",
    "\n",
    "md(\"Gegeben: <br/>\"\n",
    "+ \" $m_1 = {:~P}$\".format(m_1) \n",
    "+ \"; $v_1 = {:~P}$\".format(v_1)\n",
    "+ \"; $m_2 = {:~P}$\".format(m_2)\n",
    "+ \"<br/>Lösung:<br/>\" \n",
    "+ \"$p_1 = {:.4~P}$; \".format(p_1)\n",
    "+ \"$v_2 = {:.3~P}$;\".format(v_2))"
   ]
  },
  {
   "cell_type": "markdown",
   "metadata": {},
   "source": [
    "### b)\n",
    "Wenn Dörte stehen bleibt, dann bleibt auch der Wagen stehen um den Gesamtimpuls 0 zu erhalten."
   ]
  },
  {
   "cell_type": "markdown",
   "metadata": {},
   "source": [
    "## Aufgabe 11\n",
    "Eine wichtige Information ist das Explodieren im höchsten Punkt. Im höchsten Punkt hat der Feuerwerkskörper keine Geschwindigkeit mehr, wenn er senkrecht nach oben geworfen wird. In diesem Fall ist der Gesamtimpuls des Feuerwerkskörper 0. Explodiert er, dann muss die Summe aller Impulse wieder 0 ergeben. Da sich die Teile in unterschiedliche Richtungen bewegen, dann müssen die Vektoren $\\vec{p_1}$, $\\vec{p_2}$ und $\\vec{p_3}$ zusammenaddiert $\\vec{0}$ ergeben. Da alle drei Teile eine gleich große Masse haben, reicht es aus einen Vektorpfeil $\\vec{v_3}$ zu suchen der entgegengesetzt so groß ist wie die Summe aus $\\vec{v_1}$ und $\\vec{v_2}$.\n",
    "$$\\begin{eqnarray}\n",
    "\\vec{v_{1}} &=& \\left ( \\begin{array}{2} 0 \\\\ v \\end{array} \\right ) \\\\\n",
    "\\vec{v_{2}} &=& \\left ( \\begin{array}{2} v \\\\ 0 \\end{array} \\right ) \\\\\n",
    "\\vec{v_{1,2}} &=& \\vec{v_{1}} + \\vec{v_{2}} = v \\cdot \\left ( \\begin{array}{2} 1 \\\\ 1 \\end{array} \\right ) \\\\\n",
    "\\vec{v_{3}} &=&  - \\vec{v_{1,2}} \\\\\n",
    "|\\vec{v_{3}}| &=& \\\n",
    "\\end{eqnarray}$$"
   ]
  },
  {
   "cell_type": "markdown",
   "metadata": {},
   "source": [
    "## Aufgabe 13\n",
    "https://www.leifiphysik.de/mechanik/erhaltungssaetze-und-stoesse/aufgabe/rueckstoss-beim-gewehr"
   ]
  },
  {
   "cell_type": "code",
   "execution_count": null,
   "metadata": {},
   "outputs": [],
   "source": []
  }
 ],
 "metadata": {
  "kernelspec": {
   "display_name": "Python 3",
   "language": "python",
   "name": "python3"
  },
  "language_info": {
   "codemirror_mode": {
    "name": "ipython",
    "version": 3
   },
   "file_extension": ".py",
   "mimetype": "text/x-python",
   "name": "python",
   "nbconvert_exporter": "python",
   "pygments_lexer": "ipython3",
   "version": "3.6.8"
  }
 },
 "nbformat": 4,
 "nbformat_minor": 2
}
