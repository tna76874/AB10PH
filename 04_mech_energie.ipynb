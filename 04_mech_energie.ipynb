{
 "cells": [
  {
   "cell_type": "code",
   "execution_count": 1,
   "metadata": {},
   "outputs": [],
   "source": [
    "from __future__ import division\n",
    "from IPython.display import display\n",
    "from IPython.display import Markdown as md\n",
    "from IPython.core.display import SVG\n",
    "from sympy.interactive import printing\n",
    "printing.init_printing(use_latex='mathjax')\n",
    "\n",
    "import pandas as pd\n",
    "import numpy as np\n",
    "\n",
    "import sympy as sp\n",
    "sf = sp.sympify\n",
    "\n",
    "import scipy.constants as cm\n",
    "import pint as pn\n",
    "ureg = pn.UnitRegistry(system='mks')\n",
    "ureg.default_format = '~P'\n",
    "pe = ureg.parse_expression\n",
    "\n",
    "## Konstanten und Einheiten\n",
    "CM = pd.DataFrame(cm.physical_constants).T\n",
    "CM['c'] = CM.index\n",
    "CM = CM.reset_index(drop=True)\n",
    "def getpc(quant):\n",
    "    DF = CM\n",
    "    DF = DF[DF['c']==quant].reset_index(drop=True)\n",
    "    quan = DF[0][0] * ureg(DF[1][0])\n",
    "    return quan"
   ]
  },
  {
   "cell_type": "code",
   "execution_count": 2,
   "metadata": {},
   "outputs": [],
   "source": [
    "g = getpc('standard acceleration of gravity')\n",
    "m_e = getpc('electron mass')\n",
    "e = getpc('elementary charge')\n",
    "c = getpc('speed of light in vacuum')\n",
    "e0 = getpc('electric constant')\n",
    "mu0 = getpc('mag. constant')"
   ]
  },
  {
   "cell_type": "code",
   "execution_count": 3,
   "metadata": {},
   "outputs": [
    {
     "data": {
      "text/html": [
       "<script>\n",
       "code_show=true; \n",
       "function code_toggle() {\n",
       " if (code_show){\n",
       " $('div.input').hide();\n",
       " } else {\n",
       " $('div.input').show();\n",
       " }\n",
       " code_show = !code_show\n",
       "} \n",
       "$( document ).ready(code_toggle);\n",
       "</script>\n",
       "<form action=\"javascript:code_toggle()\"><input type=\"submit\" value=\"Quellcode an/aus schalten.\"></form>"
      ],
      "text/plain": [
       "<IPython.core.display.HTML object>"
      ]
     },
     "execution_count": 3,
     "metadata": {},
     "output_type": "execute_result"
    }
   ],
   "source": [
    "from IPython.display import HTML\n",
    "\n",
    "HTML('''<script>\n",
    "code_show=true; \n",
    "function code_toggle() {\n",
    " if (code_show){\n",
    " $('div.input').hide();\n",
    " } else {\n",
    " $('div.input').show();\n",
    " }\n",
    " code_show = !code_show\n",
    "} \n",
    "$( document ).ready(code_toggle);\n",
    "</script>\n",
    "<form action=\"javascript:code_toggle()\"><input type=\"submit\" value=\"Quellcode an/aus schalten.\"></form>''')"
   ]
  },
  {
   "cell_type": "markdown",
   "metadata": {},
   "source": [
    "# Spann-, Bewegungs- und Lageenergie"
   ]
  },
  {
   "cell_type": "markdown",
   "metadata": {},
   "source": [
    "## Aufgabe 1\n",
    "\n",
    "### a)\n",
    "https://www.leifiphysik.de/mechanik/arbeit-energie-und-leistung/aufgabe/geschwindigkeit-ist-keine-energie\n",
    "\n",
    "### b)\n",
    "Wenn sich der Wagen zuerst oben auf dem Hügel in Ruhe befindet, dann wird seine gesamte Lageenergie in Bewegungsenergie am Fuß des Hügels umgewandelt.\n",
    "$$\\begin{eqnarray}\n",
    "E_\\mathrm{kin} &=& E_{\\mathrm{pot}} \\\\\n",
    "\\frac{1}{2} m v^2 &=& m g h \\\\\n",
    "h &=& \\frac{v^2}{2 g}\n",
    " \\end{eqnarray}$$"
   ]
  },
  {
   "cell_type": "code",
   "execution_count": 4,
   "metadata": {},
   "outputs": [
    {
     "data": {
      "text/markdown": [
       "Gegeben: <br/> $v = 1.1 m/s$<br/>Lösung:<br/>$h = 0.0629 m$"
      ],
      "text/plain": [
       "<IPython.core.display.Markdown object>"
      ]
     },
     "execution_count": 4,
     "metadata": {},
     "output_type": "execute_result"
    }
   ],
   "source": [
    "v = pe('4km/hour').to('m/s')\n",
    "\n",
    "h = (v**2/(2*g)).to('m')\n",
    "     \n",
    "md(\"Gegeben: <br/>\"\n",
    "+ \" $v = {:.2~P}$\".format(v) \n",
    "+ \"<br/>Lösung:<br/>\"\n",
    "+ \"$h = {:.3~P}$\".format(h))"
   ]
  },
  {
   "cell_type": "markdown",
   "metadata": {},
   "source": [
    "## Aufgabe 2\n",
    "### a)\n",
    "https://www.leifiphysik.de/mechanik/arbeit-energie-und-leistung/aufgabe/menschenpyramide"
   ]
  },
  {
   "cell_type": "markdown",
   "metadata": {},
   "source": [
    "### b)\n",
    "Die kinetische Energie am Boden muss mindestens der potentiellen Energie in Höhe der beiden Artisten sein.\n",
    "$$\\begin{eqnarray}\n",
    "E_\\mathrm{kin} &=& E_{\\mathrm{pot}} \\\\\n",
    "\\frac{1}{2} m v^2 &=& m g h \\\\\n",
    "v &=& \\sqrt{2 g h}\n",
    " \\end{eqnarray}$$"
   ]
  },
  {
   "cell_type": "code",
   "execution_count": 5,
   "metadata": {},
   "outputs": [
    {
     "data": {
      "text/markdown": [
       "Gegeben: <br/> $h = 3.1 m$<br/>Lösung:<br/>$v = 7.8 m/s$"
      ],
      "text/plain": [
       "<IPython.core.display.Markdown object>"
      ]
     },
     "execution_count": 5,
     "metadata": {},
     "output_type": "execute_result"
    }
   ],
   "source": [
    "h = pe('1.55m')*2\n",
    "\n",
    "v = (np.sqrt(2*g*h)).to('m/s')\n",
    "\n",
    "md(\"Gegeben: <br/>\"\n",
    "+ \" $h = {:.2~P}$\".format(h) \n",
    "+ \"<br/>Lösung:<br/>\"\n",
    "+ \"$v = {:.3~P}$\".format(v))"
   ]
  },
  {
   "cell_type": "markdown",
   "metadata": {},
   "source": [
    "### Aufgabe 3\n",
    "https://www.leifiphysik.de/mechanik/arbeit-energie-und-leistung/aufgabe/wie-hoch-war-der-berg"
   ]
  },
  {
   "cell_type": "markdown",
   "metadata": {},
   "source": [
    "### Aufgabe 4\n",
    "https://www.leifiphysik.de/mechanik/arbeit-energie-und-leistung/aufgabe/energieformen-im-diagramm"
   ]
  },
  {
   "cell_type": "markdown",
   "metadata": {},
   "source": [
    "### Aufgabe 5\n",
    "https://www.leifiphysik.de/mechanik/arbeit-energie-und-leistung/aufgabe/schraubenfeder"
   ]
  },
  {
   "cell_type": "markdown",
   "metadata": {},
   "source": [
    "### Aufgabe 6\n",
    "https://www.leifiphysik.de/mechanik/arbeit-energie-und-leistung/aufgabe/springfrosch"
   ]
  },
  {
   "cell_type": "markdown",
   "metadata": {},
   "source": [
    "### Aufgabe 7\n",
    "https://www.leifiphysik.de/mechanik/erhaltungssaetze-und-stoesse/aufgabe/federpistole"
   ]
  },
  {
   "cell_type": "markdown",
   "metadata": {},
   "source": [
    "### Aufgabe 8\n",
    "https://www.leifiphysik.de/mechanik/erhaltungssaetze-und-stoesse/aufgabe/stoss-auf-schiefer-ebene"
   ]
  },
  {
   "cell_type": "code",
   "execution_count": null,
   "metadata": {},
   "outputs": [],
   "source": []
  }
 ],
 "metadata": {
  "kernelspec": {
   "display_name": "Python 3",
   "language": "python",
   "name": "python3"
  },
  "language_info": {
   "codemirror_mode": {
    "name": "ipython",
    "version": 3
   },
   "file_extension": ".py",
   "mimetype": "text/x-python",
   "name": "python",
   "nbconvert_exporter": "python",
   "pygments_lexer": "ipython3",
   "version": "3.6.8"
  }
 },
 "nbformat": 4,
 "nbformat_minor": 2
}
