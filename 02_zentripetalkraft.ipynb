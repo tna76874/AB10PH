{
 "cells": [
  {
   "cell_type": "code",
   "execution_count": 1,
   "metadata": {},
   "outputs": [],
   "source": [
    "from __future__ import division\n",
    "from IPython.display import display\n",
    "from IPython.display import Markdown as md\n",
    "from IPython.core.display import SVG\n",
    "from sympy.interactive import printing\n",
    "printing.init_printing(use_latex='mathjax')\n",
    "\n",
    "import pandas as pd\n",
    "import numpy as np\n",
    "\n",
    "import sympy as sp\n",
    "sf = sp.sympify\n",
    "\n",
    "import scipy.constants as cm\n",
    "import pint as pn\n",
    "ureg = pn.UnitRegistry(system='mks')\n",
    "ureg.default_format = '~P'\n",
    "pe = ureg.parse_expression\n",
    "\n",
    "## Konstanten und Einheiten\n",
    "CM = pd.DataFrame(cm.physical_constants).T\n",
    "CM['c'] = CM.index\n",
    "CM = CM.reset_index(drop=True)\n",
    "def getpc(quant):\n",
    "    DF = CM\n",
    "    DF = DF[DF['c']==quant].reset_index(drop=True)\n",
    "    quan = DF[0][0] * ureg(DF[1][0])\n",
    "    return quan"
   ]
  },
  {
   "cell_type": "code",
   "execution_count": 2,
   "metadata": {},
   "outputs": [],
   "source": [
    "g = getpc('standard acceleration of gravity')\n",
    "m_e = getpc('electron mass')\n",
    "e = getpc('elementary charge')\n",
    "c = getpc('speed of light in vacuum')\n",
    "e0 = getpc('electric constant')\n",
    "mu0 = getpc('mag. constant')"
   ]
  },
  {
   "cell_type": "code",
   "execution_count": 3,
   "metadata": {},
   "outputs": [
    {
     "data": {
      "text/html": [
       "<script>\n",
       "code_show=true; \n",
       "function code_toggle() {\n",
       " if (code_show){\n",
       " $('div.input').hide();\n",
       " } else {\n",
       " $('div.input').show();\n",
       " }\n",
       " code_show = !code_show\n",
       "} \n",
       "$( document ).ready(code_toggle);\n",
       "</script>\n",
       "<form action=\"javascript:code_toggle()\"><input type=\"submit\" value=\"Quellcode an/aus schalten.\"></form>"
      ],
      "text/plain": [
       "<IPython.core.display.HTML object>"
      ]
     },
     "execution_count": 3,
     "metadata": {},
     "output_type": "execute_result"
    }
   ],
   "source": [
    "from IPython.display import HTML\n",
    "\n",
    "HTML('''<script>\n",
    "code_show=true; \n",
    "function code_toggle() {\n",
    " if (code_show){\n",
    " $('div.input').hide();\n",
    " } else {\n",
    " $('div.input').show();\n",
    " }\n",
    " code_show = !code_show\n",
    "} \n",
    "$( document ).ready(code_toggle);\n",
    "</script>\n",
    "<form action=\"javascript:code_toggle()\"><input type=\"submit\" value=\"Quellcode an/aus schalten.\"></form>''')"
   ]
  },
  {
   "cell_type": "markdown",
   "metadata": {},
   "source": [
    "# AB Zentripetalkraft"
   ]
  },
  {
   "cell_type": "markdown",
   "metadata": {},
   "source": [
    "## Aufgabe 1\n",
    "&rightarrow; Lösungen siehe Unterricht\n",
    "## Aufgabe 2\n",
    "### a)\n",
    "$$\\begin{eqnarray}\n",
    "F_z &=& m \\cdot a_z\n",
    "\\end{eqnarray}$$\n",
    "$F_z$ zeigt zum Mittelpunkt der Zentrifuge. Die Zentripetalbeschleunigung ist ein Vielfaches der Erdbeschleunigung $g$."
   ]
  },
  {
   "cell_type": "code",
   "execution_count": 4,
   "metadata": {},
   "outputs": [
    {
     "data": {
      "text/markdown": [
       "Gegeben: <br/> $m = 75 kg$; $a_z = 65.7 m/s²$; $r = 8.85 m$<br/>Lösung:<br/>$F_z = 4927.8 N$"
      ],
      "text/plain": [
       "<IPython.core.display.Markdown object>"
      ]
     },
     "execution_count": 4,
     "metadata": {},
     "output_type": "execute_result"
    }
   ],
   "source": [
    "m = pe('75kg')\n",
    "a_z = 6.7*g\n",
    "r = pe('17.7m')/2\n",
    "\n",
    "F_z = (m*a_z).to('N')\n",
    "\n",
    "md(\"Gegeben: <br/>\"\n",
    "+ \" $m = {:~P}$\".format(m) \n",
    "+ \"; $a_z = {:~.3P}$\".format(a_z) \n",
    "+ \"; $r = {:~P}$\".format(r) \n",
    "+ \"<br/>Lösung:<br/>\" \n",
    "+ \"$F_z = {:.5~P}$\".format(F_z))"
   ]
  },
  {
   "cell_type": "markdown",
   "metadata": {},
   "source": [
    "### b)\n",
    "$$\\begin{eqnarray}\n",
    "a_z &=& r \\cdot \\omega^2 \\\\\n",
    "\\omega &=& \\sqrt{\\frac{a_z}{r}} \\\\\n",
    "\\omega &=& 2 \\pi \\cdot f \\\\\n",
    "f &=& \\frac{\\omega}{2 \\pi}\n",
    "\\end{eqnarray}$$"
   ]
  },
  {
   "cell_type": "code",
   "execution_count": 5,
   "metadata": {},
   "outputs": [
    {
     "data": {
      "text/markdown": [
       "Gegeben: <br/>$a_z = 65.7 m/s²$; $r = 8.85 m$<br/>Lösung:<br/>$\\omega = 2.7 Hz$; $f = 0.43 Hz$"
      ],
      "text/plain": [
       "<IPython.core.display.Markdown object>"
      ]
     },
     "execution_count": 5,
     "metadata": {},
     "output_type": "execute_result"
    }
   ],
   "source": [
    "omega = (np.sqrt(a_z/r)).to('Hz')\n",
    "f = omega /(np.pi * 2)\n",
    "\n",
    "md(\"Gegeben: <br/>\" \n",
    "+ \"$a_z = {:~.3P}$\".format(a_z) \n",
    "+ \"; $r = {:~P}$\".format(r) \n",
    "+ \"<br/>Lösung:<br/>\" \n",
    "+ \"$\\omega = {:.2~P}$\".format(omega)\n",
    "+ \"; $f = {:.2~P}$\".format(f) )"
   ]
  },
  {
   "cell_type": "markdown",
   "metadata": {},
   "source": [
    "#### c)\n",
    "$$\\begin{eqnarray}\n",
    "a_z &=& r \\cdot \\omega^2 \\\\\n",
    "v &=& \\omega \\cdot r \\\\\n",
    "\\omega &=& \\frac{v}{r} \\\\\n",
    "a_z &=& \\frac{v^2}{r} \\\\\n",
    "v &=& \\sqrt{a_z \\cdot r}\n",
    "\\end{eqnarray}$$"
   ]
  },
  {
   "cell_type": "code",
   "execution_count": 6,
   "metadata": {},
   "outputs": [
    {
     "data": {
      "text/markdown": [
       "Gegeben: <br/>$a_z = 65.7 m/s²$; $r = 8.85 m$<br/>Lösung:<br/>$v = 24.1 m/s$"
      ],
      "text/plain": [
       "<IPython.core.display.Markdown object>"
      ]
     },
     "execution_count": 6,
     "metadata": {},
     "output_type": "execute_result"
    }
   ],
   "source": [
    "v = (np.sqrt(a_z * r)).to('m/s')\n",
    "md(\"Gegeben: <br/>\" \n",
    "+ \"$a_z = {:~.3P}$\".format(a_z) \n",
    "+ \"; $r = {:~P}$\".format(r) \n",
    "+ \"<br/>Lösung:<br/>\" \n",
    "+ \"$v = {:.3~P}$\".format(v))"
   ]
  },
  {
   "cell_type": "markdown",
   "metadata": {},
   "source": [
    "\n",
    "## Aufgabe 3\n",
    "\n",
    "https://www.leifiphysik.de/mechanik/kreisbewegung/aufgabe/eisschnelllaeuferin\n",
    "\n",
    "## Aufgabe 4\n",
    "\n",
    "https://www.leifiphysik.de/mechanik/kreisbewegung/aufgabe/umlaufdauer-eines-kettenkarussells\n",
    "\n",
    "## Aufgabe 5\n",
    "Hinweis: Bei Teilaufgabe a) wird mit der Energieerhaltung gerechnet, die wir zu dem jetzigen Zeitpunkt noch nicht gemacht haben. Teilaufgabe a) kann also in dieser Form nicht in der Klassenarbeit gestellt werden.\n",
    "\n",
    "https://www.leifiphysik.de/mechanik/kreisbewegung/aufgabe/olympialooping"
   ]
  },
  {
   "cell_type": "markdown",
   "metadata": {},
   "source": [
    "### Weitere Aufgaben mit Lösungen:\n",
    "https://www.leifiphysik.de/mechanik/kreisbewegung/aufgaben"
   ]
  },
  {
   "cell_type": "code",
   "execution_count": null,
   "metadata": {},
   "outputs": [],
   "source": []
  }
 ],
 "metadata": {
  "kernelspec": {
   "display_name": "Python 3",
   "language": "python",
   "name": "python3"
  },
  "language_info": {
   "codemirror_mode": {
    "name": "ipython",
    "version": 3
   },
   "file_extension": ".py",
   "mimetype": "text/x-python",
   "name": "python",
   "nbconvert_exporter": "python",
   "pygments_lexer": "ipython3",
   "version": "3.7.0"
  }
 },
 "nbformat": 4,
 "nbformat_minor": 2
}
