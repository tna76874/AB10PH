{
 "cells": [
  {
   "cell_type": "code",
   "execution_count": 1,
   "metadata": {},
   "outputs": [],
   "source": [
    "from __future__ import division\n",
    "from IPython.display import display\n",
    "from IPython.display import Markdown as md\n",
    "from IPython.core.display import SVG\n",
    "from sympy.interactive import printing\n",
    "printing.init_printing(use_latex='mathjax')\n",
    "\n",
    "import pandas as pd\n",
    "import numpy as np\n",
    "\n",
    "import sympy as sp\n",
    "sf = sp.sympify\n",
    "\n",
    "import scipy.constants as cm\n",
    "import pint as pn\n",
    "ureg = pn.UnitRegistry(system='mks')\n",
    "ureg.default_format = '~P'\n",
    "pe = ureg.parse_expression\n",
    "\n",
    "## Konstanten und Einheiten\n",
    "CM = pd.DataFrame(cm.physical_constants).T\n",
    "CM['c'] = CM.index\n",
    "CM = CM.reset_index(drop=True)\n",
    "def getpc(quant):\n",
    "    DF = CM\n",
    "    DF = DF[DF['c']==quant].reset_index(drop=True)\n",
    "    quan = DF[0][0] * ureg(DF[1][0])\n",
    "    return quan"
   ]
  },
  {
   "cell_type": "code",
   "execution_count": 2,
   "metadata": {},
   "outputs": [],
   "source": [
    "g = getpc('standard acceleration of gravity')\n",
    "m_e = getpc('electron mass')\n",
    "e = getpc('elementary charge')\n",
    "c = getpc('speed of light in vacuum')\n",
    "e0 = getpc('electric constant')\n",
    "mu0 = getpc('mag. constant')"
   ]
  },
  {
   "cell_type": "code",
   "execution_count": 3,
   "metadata": {},
   "outputs": [
    {
     "data": {
      "text/html": [
       "<script>\n",
       "code_show=true; \n",
       "function code_toggle() {\n",
       " if (code_show){\n",
       " $('div.input').hide();\n",
       " } else {\n",
       " $('div.input').show();\n",
       " }\n",
       " code_show = !code_show\n",
       "} \n",
       "$( document ).ready(code_toggle);\n",
       "</script>\n",
       "<form action=\"javascript:code_toggle()\"><input type=\"submit\" value=\"Quellcode an/aus schalten.\"></form>"
      ],
      "text/plain": [
       "<IPython.core.display.HTML object>"
      ]
     },
     "execution_count": 3,
     "metadata": {},
     "output_type": "execute_result"
    }
   ],
   "source": [
    "from IPython.display import HTML\n",
    "\n",
    "HTML('''<script>\n",
    "code_show=true; \n",
    "function code_toggle() {\n",
    " if (code_show){\n",
    " $('div.input').hide();\n",
    " } else {\n",
    " $('div.input').show();\n",
    " }\n",
    " code_show = !code_show\n",
    "} \n",
    "$( document ).ready(code_toggle);\n",
    "</script>\n",
    "<form action=\"javascript:code_toggle()\"><input type=\"submit\" value=\"Quellcode an/aus schalten.\"></form>''')"
   ]
  },
  {
   "cell_type": "markdown",
   "metadata": {},
   "source": [
    "# AB Impuls und Kraft"
   ]
  },
  {
   "cell_type": "markdown",
   "metadata": {},
   "source": [
    "## Aufgabe 1\n",
    "$$\\begin{eqnarray}\n",
    "\\overline{F} &=& \\frac{\\Delta p}{\\Delta t} = \\frac{p_1 - p_0}{\\Delta t}\n",
    "\\end{eqnarray}$$"
   ]
  },
  {
   "cell_type": "code",
   "execution_count": 4,
   "metadata": {},
   "outputs": [
    {
     "data": {
      "text/markdown": [
       "Gegeben: <br/> $p_0 = 0.0 kg·m/s$; $m_1 = 1.4 kg$; $v_1 = 10.0 m/s$; $\\Delta t = 0.01 s$<br/>Lösung:<br/>$p_1 = 14.0 kg·m/s$; $\\Delta p = 14.0 kg·m/s$;$F = 1.4 kN$;"
      ],
      "text/plain": [
       "<IPython.core.display.Markdown object>"
      ]
     },
     "execution_count": 4,
     "metadata": {},
     "output_type": "execute_result"
    }
   ],
   "source": [
    "p_0 = pe('0kg m/s')\n",
    "m_1 = pe('1.4kg')\n",
    "v_1 = pe('10m/s')\n",
    "dt = pe('0.01s')\n",
    "\n",
    "p_1 = m_1 * v_1\n",
    "dp = p_1 - p_0\n",
    "\n",
    "\n",
    "F = (dp/dt).to('kN')\n",
    "\n",
    "md(\"Gegeben: <br/>\"\n",
    "+ \" $p_0 = {:~P}$\".format(p_0) \n",
    "+ \"; $m_1 = {:~P}$\".format(m_1)\n",
    "+ \"; $v_1 = {:~P}$\".format(v_1)\n",
    "+ \"; $\\\\Delta t = {:~P}$\".format(dt)\n",
    "+ \"<br/>Lösung:<br/>\" \n",
    "+ \"$p_1 = {:.4~P}$; \".format(p_1)\n",
    "+ \"$\\\\Delta p = {:.3~P}$;\".format(dp)\n",
    "+ \"$F = {:.3~P}$;\".format(F))"
   ]
  },
  {
   "cell_type": "markdown",
   "metadata": {},
   "source": [
    "## Aufgabe 2\n",
    "https://www.leifiphysik.de/mechanik/erhaltungssaetze-und-stoesse/aufgabe/nageln-physikalisch-betrachtet"
   ]
  },
  {
   "cell_type": "markdown",
   "metadata": {},
   "source": [
    "## Aufgabe 3\n",
    "Zu Beginn ist der Impuls des Gegenstandes $p_0 = m \\cdot v$ gegeben. Wenn man den Impuls des Gegenstandes verdreifachen möchte, dann ändert sich der Impuls um das Zweifache:\n",
    "$$p_0 + 2\\cdot p_0 = 3\\cdot p_0$$\n",
    "Damit ist $\\Delta p = 2 \\cdot p_0$. Aus $\\overline{F} = \\frac{\\Delta p}{\\Delta t}$ ergibt sich für die Dauer $\\Delta t$ die man den Gegenstand mit der Kraft beschleunigen muss:\n",
    "$$\\Delta t = \\frac{\\Delta p}{\\overline{F}}$$"
   ]
  },
  {
   "cell_type": "code",
   "execution_count": 5,
   "metadata": {},
   "outputs": [
    {
     "data": {
      "text/markdown": [
       "Gegeben: <br/>$m = 10 kg$; $v = 5.0 m/s$; $\\Delta t = 10.0 s$<br/>Lösung:<br/>$p_0 = 50.0 kg·m/s$; $\\Delta p = 100.0 kg·m/s$;$\\Delta t = 10.0 s$;"
      ],
      "text/plain": [
       "<IPython.core.display.Markdown object>"
      ]
     },
     "execution_count": 5,
     "metadata": {},
     "output_type": "execute_result"
    }
   ],
   "source": [
    "m = pe('10kg')\n",
    "v = pe('5m/s')\n",
    "F = pe('10N')\n",
    "\n",
    "p_0 = m * v\n",
    "dp = 2 * p_0\n",
    "\n",
    "dt = (dp/F).to('s')\n",
    "\n",
    "md(\"Gegeben: <br/>\"\n",
    "+ \"$m = {:~P}$\".format(m)\n",
    "+ \"; $v = {:~P}$\".format(v)\n",
    "+ \"; $\\\\Delta t = {:~P}$\".format(dt)\n",
    "+ \"<br/>Lösung:<br/>\" \n",
    "+ \"$p_0 = {:.4~P}$; \".format(p_0)\n",
    "+ \"$\\\\Delta p = {:.4~P}$;\".format(dp)\n",
    "+ \"$\\\\Delta t = {:.3~P}$;\".format(dt))"
   ]
  },
  {
   "cell_type": "markdown",
   "metadata": {},
   "source": [
    "## Aufgabe 4\n",
    "https://www.leifiphysik.de/mechanik/erhaltungssaetze-und-stoesse/aufgabe/a4-rakete\n"
   ]
  }
 ],
 "metadata": {
  "kernelspec": {
   "display_name": "Python 3",
   "language": "python",
   "name": "python3"
  },
  "language_info": {
   "codemirror_mode": {
    "name": "ipython",
    "version": 3
   },
   "file_extension": ".py",
   "mimetype": "text/x-python",
   "name": "python",
   "nbconvert_exporter": "python",
   "pygments_lexer": "ipython3",
   "version": "3.6.8"
  }
 },
 "nbformat": 4,
 "nbformat_minor": 2
}
