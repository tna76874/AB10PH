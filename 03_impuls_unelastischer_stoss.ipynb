{
 "cells": [
  {
   "cell_type": "code",
   "execution_count": 1,
   "metadata": {},
   "outputs": [],
   "source": [
    "from __future__ import division\n",
    "from IPython.display import display\n",
    "from IPython.display import Markdown as md\n",
    "from IPython.core.display import SVG\n",
    "from sympy.interactive import printing\n",
    "printing.init_printing(use_latex='mathjax')\n",
    "\n",
    "import pandas as pd\n",
    "import numpy as np\n",
    "\n",
    "import sympy as sp\n",
    "sf = sp.sympify\n",
    "\n",
    "import scipy.constants as cm\n",
    "import pint as pn\n",
    "ureg = pn.UnitRegistry(system='mks')\n",
    "ureg.default_format = '~P'\n",
    "pe = ureg.parse_expression\n",
    "\n",
    "## Konstanten und Einheiten\n",
    "CM = pd.DataFrame(cm.physical_constants).T\n",
    "CM['c'] = CM.index\n",
    "CM = CM.reset_index(drop=True)\n",
    "def getpc(quant):\n",
    "    DF = CM\n",
    "    DF = DF[DF['c']==quant].reset_index(drop=True)\n",
    "    quan = DF[0][0] * ureg(DF[1][0])\n",
    "    return quan"
   ]
  },
  {
   "cell_type": "code",
   "execution_count": 2,
   "metadata": {},
   "outputs": [],
   "source": [
    "g = getpc('standard acceleration of gravity')\n",
    "m_e = getpc('electron mass')\n",
    "e = getpc('elementary charge')\n",
    "c = getpc('speed of light in vacuum')\n",
    "e0 = getpc('electric constant')\n",
    "mu0 = getpc('mag. constant')"
   ]
  },
  {
   "cell_type": "code",
   "execution_count": 3,
   "metadata": {},
   "outputs": [
    {
     "data": {
      "text/html": [
       "<script>\n",
       "code_show=true; \n",
       "function code_toggle() {\n",
       " if (code_show){\n",
       " $('div.input').hide();\n",
       " } else {\n",
       " $('div.input').show();\n",
       " }\n",
       " code_show = !code_show\n",
       "} \n",
       "$( document ).ready(code_toggle);\n",
       "</script>\n",
       "<form action=\"javascript:code_toggle()\"><input type=\"submit\" value=\"Quellcode an/aus schalten.\"></form>"
      ],
      "text/plain": [
       "<IPython.core.display.HTML object>"
      ]
     },
     "execution_count": 3,
     "metadata": {},
     "output_type": "execute_result"
    }
   ],
   "source": [
    "from IPython.display import HTML\n",
    "\n",
    "HTML('''<script>\n",
    "code_show=true; \n",
    "function code_toggle() {\n",
    " if (code_show){\n",
    " $('div.input').hide();\n",
    " } else {\n",
    " $('div.input').show();\n",
    " }\n",
    " code_show = !code_show\n",
    "} \n",
    "$( document ).ready(code_toggle);\n",
    "</script>\n",
    "<form action=\"javascript:code_toggle()\"><input type=\"submit\" value=\"Quellcode an/aus schalten.\"></form>''')"
   ]
  },
  {
   "cell_type": "markdown",
   "metadata": {},
   "source": [
    "# AB Impuls: vollkommen unelastischer Stoß\n",
    "Falls nicht anders angegeben, bedeutet ein * hinter dem Formelzeichen \"nachher\". Z.B.: Geschwindigkeit vorher $v_1$; Geschwindigkeit nachher $v_1^*$"
   ]
  },
  {
   "cell_type": "markdown",
   "metadata": {},
   "source": [
    "## Aufgabe 1\n",
    "Masse/Geschwindigkeit von Fritzchen $m_1$,$v_1$; Masse/Geschwindigkeit des Boots $m_2$,$v_2$; Masse Boot+Fritzchen nach vollkommen unelastischem Stoß $m=m_1+m_2$,$v$.\n",
    "$$\\begin{eqnarray}\n",
    "m \\cdot v &=& m_1 v_1 + m_2 v_2 \\\\\n",
    "v &=& \\frac{m_1 v_1 + m_2 v_2}{m_1 + m_2} \\\\\n",
    " &=& \\frac{m_1 v_1}{m_1 + m_2} = \\frac{m_1}{m_1 + m_2} \\cdot  v_1\n",
    "\\end{eqnarray}$$"
   ]
  },
  {
   "cell_type": "code",
   "execution_count": 4,
   "metadata": {},
   "outputs": [
    {
     "data": {
      "text/markdown": [
       "Gegeben: <br/> $m_1 = 65 kg$; $v_1 = 4.0 m/s$; $m_2 = 350 kg$; $v_2 = 0.0 m/s$<br/>Lösung:<br/>$v = 0.627 m/s$; "
      ],
      "text/plain": [
       "<IPython.core.display.Markdown object>"
      ]
     },
     "execution_count": 4,
     "metadata": {},
     "output_type": "execute_result"
    }
   ],
   "source": [
    "m_1 = pe('65kg')\n",
    "v_1 = pe('4m/s')\n",
    "m_2 = pe('350kg')\n",
    "v_2 = pe('0m/s')\n",
    "\n",
    "v = ((m_1/(m_1+m_2))*v_1).to('m/s')\n",
    "\n",
    "md(\"Gegeben: <br/>\"\n",
    "+ \" $m_1 = {:~P}$\".format(m_1) \n",
    "+ \"; $v_1 = {:~P}$\".format(v_1)\n",
    "+ \"; $m_2 = {:~P}$\".format(m_2) \n",
    "+ \"; $v_2 = {:~P}$\".format(v_2) \n",
    "+ \"<br/>Lösung:<br/>\" \n",
    "+ \"$v = {:.3~P}$; \".format(v))"
   ]
  },
  {
   "cell_type": "markdown",
   "metadata": {},
   "source": [
    "## Aufgabe 2\n",
    "### a)\n",
    "In diesem Fall bewegen sich beide Kugeln auf einer gemeinsamen Gerade in die gleiche Richtung. Die schnellere Kugel holt die langsamere ein. Die Kugeln treffen aufeinander und rollen mit der gleichen Geschwindigkeit $v$ weiter (unelastischer Stoß). Der Gesamtimpuls $p$ bleibt zu jedem Zeitpunkt unverändert.\n",
    "$$\\begin{eqnarray}\n",
    "p_1 + p_2 &=& p_1^* + p_2^* \\\\\n",
    "m_1 \\cdot v_1 + m_2 \\cdot v_2 &=& (m_1 + m_2) \\cdot v \\\\\n",
    "v &=& \\frac{m_1 \\cdot v_1 + m_2 \\cdot v_2 }{m_1 + m_2}\n",
    "\\end{eqnarray}$$"
   ]
  },
  {
   "cell_type": "code",
   "execution_count": 5,
   "metadata": {},
   "outputs": [
    {
     "data": {
      "text/markdown": [
       "Gegeben: <br/> $m_1 = 0.75 kg$; $v_1 = 5.0 m/s$; $m_2 = 0.5 kg$; $v_2 = 9.0 m/s$<br/>Lösung:<br/>$v = 6.6 m/s$; "
      ],
      "text/plain": [
       "<IPython.core.display.Markdown object>"
      ]
     },
     "execution_count": 5,
     "metadata": {},
     "output_type": "execute_result"
    }
   ],
   "source": [
    "m_1 = pe('0.75kg')\n",
    "v_1 = pe('5m/s')\n",
    "m_2 = pe('0.5kg')\n",
    "v_2 = pe('9m/s')\n",
    "\n",
    "v = ((m_1*v_1+m_2*v_2)/(m_1+m_2)).to('m/s')\n",
    "\n",
    "md(\"Gegeben: <br/>\"\n",
    "+ \" $m_1 = {:~P}$\".format(m_1) \n",
    "+ \"; $v_1 = {:~P}$\".format(v_1)\n",
    "+ \"; $m_2 = {:~P}$\".format(m_2) \n",
    "+ \"; $v_2 = {:~P}$\".format(v_2) \n",
    "+ \"<br/>Lösung:<br/>\" \n",
    "+ \"$v = {:.3~P}$; \".format(v))"
   ]
  },
  {
   "cell_type": "markdown",
   "metadata": {},
   "source": [
    "### b)\n",
    "Anders wie in Teilaufgabe a) rollen die Kugeln jetzt gegeneinander. Der Gesamtimpuls ist jetzt die Differenz der beiden Teilimpulse. Dieser bleibt nach dem unelastischen Stoß erhalten.\n",
    "$$\\begin{eqnarray}\n",
    "p_1 - p_2 &=& p_1^* + p_2^* \\\\\n",
    "m_1 \\cdot v_1 - m_2 \\cdot v_2 &=& (m_1 + m_2) \\cdot v \\\\\n",
    "v &=& \\frac{m_1 \\cdot v_1 - m_2 \\cdot v_2 }{m_1 + m_2}\n",
    "\\end{eqnarray}$$"
   ]
  },
  {
   "cell_type": "code",
   "execution_count": 6,
   "metadata": {},
   "outputs": [
    {
     "data": {
      "text/markdown": [
       "Gegeben: <br/> $m_1 = 0.75 kg$; $v_1 = 5.0 m/s$; $m_2 = 0.5 kg$; $v_2 = 9.0 m/s$<br/>Lösung:<br/>$v = -0.6 m/s$; "
      ],
      "text/plain": [
       "<IPython.core.display.Markdown object>"
      ]
     },
     "execution_count": 6,
     "metadata": {},
     "output_type": "execute_result"
    }
   ],
   "source": [
    "m_1 = pe('0.75kg')\n",
    "v_1 = pe('5m/s')\n",
    "m_2 = pe('0.5kg')\n",
    "v_2 = pe('9m/s')\n",
    "\n",
    "v = ((m_1*v_1-m_2*v_2)/(m_1+m_2)).to('m/s')\n",
    "\n",
    "md(\"Gegeben: <br/>\"\n",
    "+ \" $m_1 = {:~P}$\".format(m_1) \n",
    "+ \"; $v_1 = {:~P}$\".format(v_1)\n",
    "+ \"; $m_2 = {:~P}$\".format(m_2) \n",
    "+ \"; $v_2 = {:~P}$\".format(v_2) \n",
    "+ \"<br/>Lösung:<br/>\" \n",
    "+ \"$v = {:.3~P}$; \".format(v))"
   ]
  },
  {
   "cell_type": "markdown",
   "metadata": {},
   "source": [
    "## Aufgabe 5\n",
    "https://www.leifiphysik.de/mechanik/erhaltungssaetze-und-stoesse/aufgabe/gueterwagen"
   ]
  },
  {
   "cell_type": "markdown",
   "metadata": {},
   "source": [
    "## Aufgabe 6\n",
    "https://www.leifiphysik.de/mechanik/erhaltungssaetze-und-stoesse/aufgabe/sprung-aufs-skateboard"
   ]
  },
  {
   "cell_type": "markdown",
   "metadata": {},
   "source": [
    "## Aufgabe 7\n",
    "https://www.leifiphysik.de/mechanik/erhaltungssaetze-und-stoesse/aufgabe/wiegen-mit-der-luftkissenbahn"
   ]
  },
  {
   "cell_type": "markdown",
   "metadata": {},
   "source": [
    "## Aufgabe 8\n",
    "https://www.leifiphysik.de/mechanik/erhaltungssaetze-und-stoesse/aufgabe/bodycheck"
   ]
  },
  {
   "cell_type": "markdown",
   "metadata": {},
   "source": [
    "## Aufgabe 9\n",
    "https://www.leifiphysik.de/mechanik/erhaltungssaetze-und-stoesse/aufgabe/kohletransport"
   ]
  },
  {
   "cell_type": "code",
   "execution_count": null,
   "metadata": {},
   "outputs": [],
   "source": []
  }
 ],
 "metadata": {
  "kernelspec": {
   "display_name": "Python 3",
   "language": "python",
   "name": "python3"
  },
  "language_info": {
   "codemirror_mode": {
    "name": "ipython",
    "version": 3
   },
   "file_extension": ".py",
   "mimetype": "text/x-python",
   "name": "python",
   "nbconvert_exporter": "python",
   "pygments_lexer": "ipython3",
   "version": "3.6.8"
  }
 },
 "nbformat": 4,
 "nbformat_minor": 2
}
